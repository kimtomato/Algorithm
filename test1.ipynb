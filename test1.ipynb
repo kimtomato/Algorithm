{
 "cells": [
  {
   "cell_type": "markdown",
   "id": "6b324cf0-2d38-46bc-b555-e3ff1062c4cc",
   "metadata": {},
   "source": [
    "# Jupyter Lab git 연동하기 "
   ]
  },
  {
   "cell_type": "code",
   "execution_count": 1,
   "id": "7520bbbb-b6e3-498b-aaea-49da59d3082e",
   "metadata": {},
   "outputs": [],
   "source": [
    "import tensorflow as tf"
   ]
  },
  {
   "cell_type": "code",
   "execution_count": 2,
   "id": "4a0528a5-a4c9-4909-9000-cb17dc83632c",
   "metadata": {},
   "outputs": [
    {
     "data": {
      "text/plain": [
       "'2.4.0-rc0'"
      ]
     },
     "execution_count": 2,
     "metadata": {},
     "output_type": "execute_result"
    }
   ],
   "source": [
    "tf.__version__"
   ]
  },
  {
   "cell_type": "code",
   "execution_count": null,
   "id": "e0eef7fd-ca89-462b-91aa-6ec70d1515d7",
   "metadata": {},
   "outputs": [],
   "source": []
  }
 ],
 "metadata": {
  "kernelspec": {
   "display_name": "Python 3 (ipykernel)",
   "language": "python",
   "name": "python3"
  },
  "language_info": {
   "codemirror_mode": {
    "name": "ipython",
    "version": 3
   },
   "file_extension": ".py",
   "mimetype": "text/x-python",
   "name": "python",
   "nbconvert_exporter": "python",
   "pygments_lexer": "ipython3",
   "version": "3.8.6"
  }
 },
 "nbformat": 4,
 "nbformat_minor": 5
}
